{
 "cells": [
  {
   "cell_type": "markdown",
   "id": "fa5fb4d3-bf69-4f42-a7f7-897cf6ea3ed0",
   "metadata": {},
   "source": [
    "### Data generation\n",
    "(Optional; in case you do not have real gene sequence data)"
   ]
  },
  {
   "cell_type": "code",
   "execution_count": 24,
   "id": "233d706f-c70d-4b8f-b901-5faacb5f9d19",
   "metadata": {},
   "outputs": [],
   "source": [
    "from metal import Metal \n",
    "from utils.plot_tree import print_tree, plot_tree\n",
    "from split_frequencies import compute_split_frequencies\n",
    "from utils.treetools import save_trees\n",
    "from data_generation import TreeSimulator, SequenceSimulator\n",
    "import random\n",
    "import os \n",
    "import matplotlib.pyplot as plt"
   ]
  },
  {
   "cell_type": "code",
   "execution_count": 34,
   "id": "92f436bb-19ac-44db-b21a-01f9cd1d1c07",
   "metadata": {},
   "outputs": [],
   "source": [
    "num_gene_trees = 1000\n",
    "num_sites_per_gene = 100\n",
    "mutation_rate = 0.1"
   ]
  },
  {
   "cell_type": "code",
   "execution_count": 35,
   "id": "62899020-1208-4768-97fd-a784a2cc3620",
   "metadata": {},
   "outputs": [],
   "source": [
    "dir_name = \"data\"\n",
    "\n",
    "if dir_name not in os.listdir(\".\"):  \n",
    "    os.mkdir(dir_name)"
   ]
  },
  {
   "cell_type": "code",
   "execution_count": 36,
   "id": "32978591-e6a1-4159-abb0-2a799b61909d",
   "metadata": {},
   "outputs": [
    {
     "name": "stdout",
     "output_type": "stream",
     "text": [
      "Species tree generated.\n"
     ]
    }
   ],
   "source": [
    "rng = random.Random(0)\n",
    "\n",
    "tree_sim = TreeSimulator(ntax=10, tree_diameter=1.0, rng=rng)\n",
    "\n",
    "# Generate species tree\n",
    "tree_sim.generate_species_tree()\n",
    "tree_sim.get_species_tree().write(path=f\"{dir_name}/species_tree.nex\", schema=\"nexus\")\n",
    "\n",
    "# Generate gene trees\n",
    "gene_trees = tree_sim.generate_multiple_gene_trees(num_gene_trees)\n",
    "gene_trees.write(path=f\"{dir_name}/gene_trees.nex\", schema=\"nexus\")"
   ]
  },
  {
   "cell_type": "code",
   "execution_count": 37,
   "id": "8c0b4541-81e0-4f61-b6e5-6913217924a8",
   "metadata": {},
   "outputs": [
    {
     "name": "stderr",
     "output_type": "stream",
     "text": [
      "Generating & concatenating sequences: 100%|██| 1000/1000 [00:40<00:00, 24.86it/s]\n"
     ]
    }
   ],
   "source": [
    "#Generate a fasta file of the concatenated sequences of gene trees\n",
    "\n",
    "seq_sim = SequenceSimulator(seq_length=num_sites_per_gene, mutation_rate=mutation_rate, seed=42)\n",
    "\n",
    "fasta_filepath = f\"{dir_name}/concatenated_seq_alignment.fasta\"\n",
    "seq_sim.write_concatenated(gene_trees, fasta_filepath)"
   ]
  },
  {
   "cell_type": "code",
   "execution_count": 38,
   "id": "02de4f39-748c-4976-80c2-3131eb79c51b",
   "metadata": {},
   "outputs": [
    {
     "name": "stdout",
     "output_type": "stream",
     "text": [
      "└── *\n",
      "    ├── *\n",
      "    │   ├── a\n",
      "    │   └── *\n",
      "    │       ├── d\n",
      "    │       └── e\n",
      "    └── *\n",
      "        ├── g\n",
      "        └── *\n",
      "            ├── *\n",
      "            │   ├── b\n",
      "            │   └── *\n",
      "            │       ├── j\n",
      "            │       └── i\n",
      "            └── *\n",
      "                ├── c\n",
      "                └── *\n",
      "                    ├── h\n",
      "                    └── f\n"
     ]
    }
   ],
   "source": [
    "est = Metal(fasta_filepath, seed = 0)\n",
    "est.estimate_tree()\n",
    "print_tree(est.metal_tree, show_support=False, show_lengths=False)"
   ]
  },
  {
   "cell_type": "code",
   "execution_count": 40,
   "id": "92986db8-1c05-4f1f-b4db-e95e65e8ad14",
   "metadata": {},
   "outputs": [
    {
     "name": "stderr",
     "output_type": "stream",
     "text": [
      "Bootstrapping: 100%|███████████████████████████| 100/100 [00:03<00:00, 29.94it/s]\n"
     ]
    }
   ],
   "source": [
    "boot_trees = est.bootstrap_hamming(n_bootstraps = 100)\n",
    "gauss_trees = est.gaussian_sampling(n_bootstraps = 1000, mutation_rate=0.1, sites_per_gene=100)"
   ]
  },
  {
   "cell_type": "code",
   "execution_count": 41,
   "id": "3b9e2366-1409-4f3e-8040-a2cf7de24488",
   "metadata": {},
   "outputs": [],
   "source": [
    "metal_boot_support = compute_split_frequencies(est.metal_tree, boot_trees)\n",
    "metal_gauss_support = compute_split_frequencies(est.metal_tree, gauss_trees)"
   ]
  },
  {
   "cell_type": "code",
   "execution_count": 42,
   "id": "a8953a28-9b82-4c82-a64d-e147ebc2470e",
   "metadata": {},
   "outputs": [
    {
     "name": "stdout",
     "output_type": "stream",
     "text": [
      "######### Bootstrap ##########\n",
      "└── *\n",
      "    ├── [1.000]\n",
      "    │   ├── a\n",
      "    │   └── [1.000]\n",
      "    │       ├── d\n",
      "    │       └── e\n",
      "    └── [1.000]\n",
      "        ├── g\n",
      "        └── [0.990]\n",
      "            ├── [1.000]\n",
      "            │   ├── b\n",
      "            │   └── [0.800]\n",
      "            │       ├── j\n",
      "            │       └── i\n",
      "            └── [1.000]\n",
      "                ├── c\n",
      "                └── [1.000]\n",
      "                    ├── h\n",
      "                    └── f\n",
      "########## Gaussian ##########\n",
      "└── *\n",
      "    ├── [1.000]\n",
      "    │   ├── a\n",
      "    │   └── [0.868]\n",
      "    │       ├── d\n",
      "    │       └── e\n",
      "    └── [1.000]\n",
      "        ├── g\n",
      "        └── [0.863]\n",
      "            ├── [1.000]\n",
      "            │   ├── b\n",
      "            │   └── [0.632]\n",
      "            │       ├── j\n",
      "            │       └── i\n",
      "            └── [1.000]\n",
      "                ├── c\n",
      "                └── [0.995]\n",
      "                    ├── h\n",
      "                    └── f\n"
     ]
    }
   ],
   "source": [
    "print(\" Bootstrap \".center(30,\"#\"))\n",
    "print_tree(metal_boot_support,show_lengths=False)\n",
    "print(\" Gaussian \".center(30,\"#\"))\n",
    "print_tree(metal_gauss_support,show_lengths=False)"
   ]
  },
  {
   "cell_type": "code",
   "execution_count": 43,
   "id": "10a1bb1d-c7e0-4193-83e0-aa675aa0148a",
   "metadata": {},
   "outputs": [
    {
     "data": {
      "image/png": "[encoded data removed]",
      "text/plain": [
       "<Figure size 1500x500 with 3 Axes>"
      ]
     },
     "metadata": {},
     "output_type": "display_data"
    }
   ],
   "source": [
    "fig, (ax1, ax2, ax3) = plt.subplots(1, 3, figsize=(15, 5))\n",
    "plot_tree(metal_boot_support, ax = ax1)\n",
    "plot_tree(metal_gauss_support, ax = ax2)\n",
    "plot_tree(tree_sim.species_tree, ax = ax3)\n",
    "\n",
    "ax1.set_title(\"Bootstrap approach\")\n",
    "ax2.set_title(\"Gaussian sampling approach\")\n",
    "ax3.set_title(\"Correct species tree\")\n",
    "\n",
    "plt.show()"
   ]
  },
  {
   "cell_type": "code",
   "execution_count": null,
   "id": "9ab19f27-10ff-4b36-93e6-10d121eaffda",
   "metadata": {},
   "outputs": [],
   "source": []
  }
 ],
 "metadata": {
  "kernelspec": {
   "display_name": "Python (venv)",
   "language": "python",
   "name": "venv"
  },
  "language_info": {
   "codemirror_mode": {
    "name": "ipython",
    "version": 3
   },
   "file_extension": ".py",
   "mimetype": "text/x-python",
   "name": "python",
   "nbconvert_exporter": "python",
   "pygments_lexer": "ipython3",
   "version": "3.10.12"
  }
 },
 "nbformat": 4,
 "nbformat_minor": 5
}
